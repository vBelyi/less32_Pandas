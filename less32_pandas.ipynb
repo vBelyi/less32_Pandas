{
 "cells": [
  {
   "cell_type": "code",
   "execution_count": 34,
   "id": "960382ce",
   "metadata": {},
   "outputs": [],
   "source": [
    "import pandas as pd"
   ]
  },
  {
   "cell_type": "code",
   "execution_count": 35,
   "id": "ce9dd19c",
   "metadata": {},
   "outputs": [],
   "source": [
    "data = {\n",
    "    'Name': ['Sophia', 'Ethan', 'Ava', 'William', 'Isabella', 'James', 'Mia', 'Benjamin', 'Charlotte', 'Jacob', 'Amelia', 'Michael', 'Harper', 'Daniel', 'Emma'],\n",
    "    'Surname' : ['Johnson', 'Davis', 'Blake', 'Martinez', 'Garcia', 'Wilson', 'Anderson', 'Taylor', 'Jackson', 'Clark', 'Lee', 'Baker', 'Perez', 'Hall', 'Young'],\n",
    "    'GPA' : [3.5, 3.9, 4.8, 3.8, 4.0, 2.9, 3.6, 3.7, 3.1, 3.4, 3.9, 2.8, 3.6, 3.3, 3.0],\n",
    "    'Exam_grade' : [85, 93, 96, 89, 96, 68, 82, 90, 75, 81, 95, 70, 84, 79, 72],\n",
    "    'Attempts_to_pass' : [2, 1, 1, 1, 1, 4, 2, 1, 3, 2, 1, 3, 2, 2, 4]\n",
    "}"
   ]
  },
  {
   "cell_type": "code",
   "execution_count": 36,
   "id": "0eb64829",
   "metadata": {},
   "outputs": [
    {
     "data": {
      "text/plain": [
       "(15, 5)"
      ]
     },
     "execution_count": 36,
     "metadata": {},
     "output_type": "execute_result"
    }
   ],
   "source": [
    "my_df = pd.DataFrame(data)\n",
    "my_df.shape"
   ]
  },
  {
   "cell_type": "code",
   "execution_count": 37,
   "id": "779141fa",
   "metadata": {},
   "outputs": [
    {
     "data": {
      "text/html": [
       "<div>\n",
       "<style scoped>\n",
       "    .dataframe tbody tr th:only-of-type {\n",
       "        vertical-align: middle;\n",
       "    }\n",
       "\n",
       "    .dataframe tbody tr th {\n",
       "        vertical-align: top;\n",
       "    }\n",
       "\n",
       "    .dataframe thead th {\n",
       "        text-align: right;\n",
       "    }\n",
       "</style>\n",
       "<table border=\"1\" class=\"dataframe\">\n",
       "  <thead>\n",
       "    <tr style=\"text-align: right;\">\n",
       "      <th></th>\n",
       "      <th>Name</th>\n",
       "      <th>Surname</th>\n",
       "      <th>GPA</th>\n",
       "      <th>Exam_grade</th>\n",
       "      <th>Attempts_to_pass</th>\n",
       "    </tr>\n",
       "  </thead>\n",
       "  <tbody>\n",
       "    <tr>\n",
       "      <th>0</th>\n",
       "      <td>Sophia</td>\n",
       "      <td>Johnson</td>\n",
       "      <td>3.5</td>\n",
       "      <td>85</td>\n",
       "      <td>2</td>\n",
       "    </tr>\n",
       "    <tr>\n",
       "      <th>1</th>\n",
       "      <td>Ethan</td>\n",
       "      <td>Davis</td>\n",
       "      <td>3.9</td>\n",
       "      <td>93</td>\n",
       "      <td>1</td>\n",
       "    </tr>\n",
       "    <tr>\n",
       "      <th>2</th>\n",
       "      <td>Ava</td>\n",
       "      <td>Blake</td>\n",
       "      <td>4.8</td>\n",
       "      <td>96</td>\n",
       "      <td>1</td>\n",
       "    </tr>\n",
       "    <tr>\n",
       "      <th>3</th>\n",
       "      <td>William</td>\n",
       "      <td>Martinez</td>\n",
       "      <td>3.8</td>\n",
       "      <td>89</td>\n",
       "      <td>1</td>\n",
       "    </tr>\n",
       "    <tr>\n",
       "      <th>4</th>\n",
       "      <td>Isabella</td>\n",
       "      <td>Garcia</td>\n",
       "      <td>4.0</td>\n",
       "      <td>96</td>\n",
       "      <td>1</td>\n",
       "    </tr>\n",
       "    <tr>\n",
       "      <th>5</th>\n",
       "      <td>James</td>\n",
       "      <td>Wilson</td>\n",
       "      <td>2.9</td>\n",
       "      <td>68</td>\n",
       "      <td>4</td>\n",
       "    </tr>\n",
       "    <tr>\n",
       "      <th>6</th>\n",
       "      <td>Mia</td>\n",
       "      <td>Anderson</td>\n",
       "      <td>3.6</td>\n",
       "      <td>82</td>\n",
       "      <td>2</td>\n",
       "    </tr>\n",
       "    <tr>\n",
       "      <th>7</th>\n",
       "      <td>Benjamin</td>\n",
       "      <td>Taylor</td>\n",
       "      <td>3.7</td>\n",
       "      <td>90</td>\n",
       "      <td>1</td>\n",
       "    </tr>\n",
       "    <tr>\n",
       "      <th>8</th>\n",
       "      <td>Charlotte</td>\n",
       "      <td>Jackson</td>\n",
       "      <td>3.1</td>\n",
       "      <td>75</td>\n",
       "      <td>3</td>\n",
       "    </tr>\n",
       "    <tr>\n",
       "      <th>9</th>\n",
       "      <td>Jacob</td>\n",
       "      <td>Clark</td>\n",
       "      <td>3.4</td>\n",
       "      <td>81</td>\n",
       "      <td>2</td>\n",
       "    </tr>\n",
       "    <tr>\n",
       "      <th>10</th>\n",
       "      <td>Amelia</td>\n",
       "      <td>Lee</td>\n",
       "      <td>3.9</td>\n",
       "      <td>95</td>\n",
       "      <td>1</td>\n",
       "    </tr>\n",
       "    <tr>\n",
       "      <th>11</th>\n",
       "      <td>Michael</td>\n",
       "      <td>Baker</td>\n",
       "      <td>2.8</td>\n",
       "      <td>70</td>\n",
       "      <td>3</td>\n",
       "    </tr>\n",
       "    <tr>\n",
       "      <th>12</th>\n",
       "      <td>Harper</td>\n",
       "      <td>Perez</td>\n",
       "      <td>3.6</td>\n",
       "      <td>84</td>\n",
       "      <td>2</td>\n",
       "    </tr>\n",
       "    <tr>\n",
       "      <th>13</th>\n",
       "      <td>Daniel</td>\n",
       "      <td>Hall</td>\n",
       "      <td>3.3</td>\n",
       "      <td>79</td>\n",
       "      <td>2</td>\n",
       "    </tr>\n",
       "    <tr>\n",
       "      <th>14</th>\n",
       "      <td>Emma</td>\n",
       "      <td>Young</td>\n",
       "      <td>3.0</td>\n",
       "      <td>72</td>\n",
       "      <td>4</td>\n",
       "    </tr>\n",
       "  </tbody>\n",
       "</table>\n",
       "</div>"
      ],
      "text/plain": [
       "         Name   Surname  GPA  Exam_grade  Attempts_to_pass\n",
       "0      Sophia   Johnson  3.5          85                 2\n",
       "1       Ethan     Davis  3.9          93                 1\n",
       "2         Ava     Blake  4.8          96                 1\n",
       "3     William  Martinez  3.8          89                 1\n",
       "4    Isabella    Garcia  4.0          96                 1\n",
       "5       James    Wilson  2.9          68                 4\n",
       "6         Mia  Anderson  3.6          82                 2\n",
       "7    Benjamin    Taylor  3.7          90                 1\n",
       "8   Charlotte   Jackson  3.1          75                 3\n",
       "9       Jacob     Clark  3.4          81                 2\n",
       "10     Amelia       Lee  3.9          95                 1\n",
       "11    Michael     Baker  2.8          70                 3\n",
       "12     Harper     Perez  3.6          84                 2\n",
       "13     Daniel      Hall  3.3          79                 2\n",
       "14       Emma     Young  3.0          72                 4"
      ]
     },
     "execution_count": 37,
     "metadata": {},
     "output_type": "execute_result"
    }
   ],
   "source": [
    "my_df"
   ]
  },
  {
   "cell_type": "code",
   "execution_count": 38,
   "id": "974aebca",
   "metadata": {},
   "outputs": [],
   "source": [
    "my_df['Admission_to_next_course'] = ['yes' if grade >=3.0 else 'no' for grade in my_df['GPA']]"
   ]
  },
  {
   "cell_type": "code",
   "execution_count": 39,
   "id": "2b35bbb0",
   "metadata": {},
   "outputs": [
    {
     "data": {
      "text/html": [
       "<div>\n",
       "<style scoped>\n",
       "    .dataframe tbody tr th:only-of-type {\n",
       "        vertical-align: middle;\n",
       "    }\n",
       "\n",
       "    .dataframe tbody tr th {\n",
       "        vertical-align: top;\n",
       "    }\n",
       "\n",
       "    .dataframe thead th {\n",
       "        text-align: right;\n",
       "    }\n",
       "</style>\n",
       "<table border=\"1\" class=\"dataframe\">\n",
       "  <thead>\n",
       "    <tr style=\"text-align: right;\">\n",
       "      <th></th>\n",
       "      <th>Name</th>\n",
       "      <th>Surname</th>\n",
       "      <th>GPA</th>\n",
       "      <th>Exam_grade</th>\n",
       "      <th>Attempts_to_pass</th>\n",
       "      <th>Admission_to_next_course</th>\n",
       "    </tr>\n",
       "  </thead>\n",
       "  <tbody>\n",
       "    <tr>\n",
       "      <th>0</th>\n",
       "      <td>Sophia</td>\n",
       "      <td>Johnson</td>\n",
       "      <td>3.5</td>\n",
       "      <td>85</td>\n",
       "      <td>2</td>\n",
       "      <td>yes</td>\n",
       "    </tr>\n",
       "    <tr>\n",
       "      <th>1</th>\n",
       "      <td>Ethan</td>\n",
       "      <td>Davis</td>\n",
       "      <td>3.9</td>\n",
       "      <td>93</td>\n",
       "      <td>1</td>\n",
       "      <td>yes</td>\n",
       "    </tr>\n",
       "    <tr>\n",
       "      <th>2</th>\n",
       "      <td>Ava</td>\n",
       "      <td>Blake</td>\n",
       "      <td>4.8</td>\n",
       "      <td>96</td>\n",
       "      <td>1</td>\n",
       "      <td>yes</td>\n",
       "    </tr>\n",
       "    <tr>\n",
       "      <th>3</th>\n",
       "      <td>William</td>\n",
       "      <td>Martinez</td>\n",
       "      <td>3.8</td>\n",
       "      <td>89</td>\n",
       "      <td>1</td>\n",
       "      <td>yes</td>\n",
       "    </tr>\n",
       "    <tr>\n",
       "      <th>4</th>\n",
       "      <td>Isabella</td>\n",
       "      <td>Garcia</td>\n",
       "      <td>4.0</td>\n",
       "      <td>96</td>\n",
       "      <td>1</td>\n",
       "      <td>yes</td>\n",
       "    </tr>\n",
       "    <tr>\n",
       "      <th>5</th>\n",
       "      <td>James</td>\n",
       "      <td>Wilson</td>\n",
       "      <td>2.9</td>\n",
       "      <td>68</td>\n",
       "      <td>4</td>\n",
       "      <td>no</td>\n",
       "    </tr>\n",
       "    <tr>\n",
       "      <th>6</th>\n",
       "      <td>Mia</td>\n",
       "      <td>Anderson</td>\n",
       "      <td>3.6</td>\n",
       "      <td>82</td>\n",
       "      <td>2</td>\n",
       "      <td>yes</td>\n",
       "    </tr>\n",
       "    <tr>\n",
       "      <th>7</th>\n",
       "      <td>Benjamin</td>\n",
       "      <td>Taylor</td>\n",
       "      <td>3.7</td>\n",
       "      <td>90</td>\n",
       "      <td>1</td>\n",
       "      <td>yes</td>\n",
       "    </tr>\n",
       "    <tr>\n",
       "      <th>8</th>\n",
       "      <td>Charlotte</td>\n",
       "      <td>Jackson</td>\n",
       "      <td>3.1</td>\n",
       "      <td>75</td>\n",
       "      <td>3</td>\n",
       "      <td>yes</td>\n",
       "    </tr>\n",
       "    <tr>\n",
       "      <th>9</th>\n",
       "      <td>Jacob</td>\n",
       "      <td>Clark</td>\n",
       "      <td>3.4</td>\n",
       "      <td>81</td>\n",
       "      <td>2</td>\n",
       "      <td>yes</td>\n",
       "    </tr>\n",
       "    <tr>\n",
       "      <th>10</th>\n",
       "      <td>Amelia</td>\n",
       "      <td>Lee</td>\n",
       "      <td>3.9</td>\n",
       "      <td>95</td>\n",
       "      <td>1</td>\n",
       "      <td>yes</td>\n",
       "    </tr>\n",
       "    <tr>\n",
       "      <th>11</th>\n",
       "      <td>Michael</td>\n",
       "      <td>Baker</td>\n",
       "      <td>2.8</td>\n",
       "      <td>70</td>\n",
       "      <td>3</td>\n",
       "      <td>no</td>\n",
       "    </tr>\n",
       "    <tr>\n",
       "      <th>12</th>\n",
       "      <td>Harper</td>\n",
       "      <td>Perez</td>\n",
       "      <td>3.6</td>\n",
       "      <td>84</td>\n",
       "      <td>2</td>\n",
       "      <td>yes</td>\n",
       "    </tr>\n",
       "    <tr>\n",
       "      <th>13</th>\n",
       "      <td>Daniel</td>\n",
       "      <td>Hall</td>\n",
       "      <td>3.3</td>\n",
       "      <td>79</td>\n",
       "      <td>2</td>\n",
       "      <td>yes</td>\n",
       "    </tr>\n",
       "    <tr>\n",
       "      <th>14</th>\n",
       "      <td>Emma</td>\n",
       "      <td>Young</td>\n",
       "      <td>3.0</td>\n",
       "      <td>72</td>\n",
       "      <td>4</td>\n",
       "      <td>yes</td>\n",
       "    </tr>\n",
       "  </tbody>\n",
       "</table>\n",
       "</div>"
      ],
      "text/plain": [
       "         Name   Surname  GPA  Exam_grade  Attempts_to_pass  \\\n",
       "0      Sophia   Johnson  3.5          85                 2   \n",
       "1       Ethan     Davis  3.9          93                 1   \n",
       "2         Ava     Blake  4.8          96                 1   \n",
       "3     William  Martinez  3.8          89                 1   \n",
       "4    Isabella    Garcia  4.0          96                 1   \n",
       "5       James    Wilson  2.9          68                 4   \n",
       "6         Mia  Anderson  3.6          82                 2   \n",
       "7    Benjamin    Taylor  3.7          90                 1   \n",
       "8   Charlotte   Jackson  3.1          75                 3   \n",
       "9       Jacob     Clark  3.4          81                 2   \n",
       "10     Amelia       Lee  3.9          95                 1   \n",
       "11    Michael     Baker  2.8          70                 3   \n",
       "12     Harper     Perez  3.6          84                 2   \n",
       "13     Daniel      Hall  3.3          79                 2   \n",
       "14       Emma     Young  3.0          72                 4   \n",
       "\n",
       "   Admission_to_next_course  \n",
       "0                       yes  \n",
       "1                       yes  \n",
       "2                       yes  \n",
       "3                       yes  \n",
       "4                       yes  \n",
       "5                        no  \n",
       "6                       yes  \n",
       "7                       yes  \n",
       "8                       yes  \n",
       "9                       yes  \n",
       "10                      yes  \n",
       "11                       no  \n",
       "12                      yes  \n",
       "13                      yes  \n",
       "14                      yes  "
      ]
     },
     "execution_count": 39,
     "metadata": {},
     "output_type": "execute_result"
    }
   ],
   "source": [
    "my_df"
   ]
  },
  {
   "cell_type": "code",
   "execution_count": 40,
   "id": "3a49ff1d",
   "metadata": {},
   "outputs": [
    {
     "data": {
      "text/plain": [
       "2.8"
      ]
     },
     "execution_count": 40,
     "metadata": {},
     "output_type": "execute_result"
    }
   ],
   "source": [
    "my_df['GPA'].min()"
   ]
  },
  {
   "cell_type": "code",
   "execution_count": 41,
   "id": "776c711e",
   "metadata": {},
   "outputs": [
    {
     "data": {
      "text/plain": [
       "4.8"
      ]
     },
     "execution_count": 41,
     "metadata": {},
     "output_type": "execute_result"
    }
   ],
   "source": [
    "my_df['GPA'].max()"
   ]
  },
  {
   "cell_type": "code",
   "execution_count": 42,
   "id": "e0bf663d",
   "metadata": {},
   "outputs": [
    {
     "data": {
      "text/plain": [
       "3.553333333333333"
      ]
     },
     "execution_count": 42,
     "metadata": {},
     "output_type": "execute_result"
    }
   ],
   "source": [
    "my_df['GPA'].mean()"
   ]
  },
  {
   "cell_type": "code",
   "execution_count": 43,
   "id": "51beece0",
   "metadata": {},
   "outputs": [
    {
     "data": {
      "text/plain": [
       "3.6"
      ]
     },
     "execution_count": 43,
     "metadata": {},
     "output_type": "execute_result"
    }
   ],
   "source": [
    "my_df['GPA'].median()"
   ]
  },
  {
   "cell_type": "code",
   "execution_count": 44,
   "id": "7977a03e",
   "metadata": {},
   "outputs": [
    {
     "data": {
      "text/html": [
       "<div>\n",
       "<style scoped>\n",
       "    .dataframe tbody tr th:only-of-type {\n",
       "        vertical-align: middle;\n",
       "    }\n",
       "\n",
       "    .dataframe tbody tr th {\n",
       "        vertical-align: top;\n",
       "    }\n",
       "\n",
       "    .dataframe thead th {\n",
       "        text-align: right;\n",
       "    }\n",
       "</style>\n",
       "<table border=\"1\" class=\"dataframe\">\n",
       "  <thead>\n",
       "    <tr style=\"text-align: right;\">\n",
       "      <th></th>\n",
       "      <th>Name</th>\n",
       "      <th>Surname</th>\n",
       "      <th>GPA</th>\n",
       "      <th>Exam_grade</th>\n",
       "      <th>Attempts_to_pass</th>\n",
       "      <th>Admission_to_next_course</th>\n",
       "    </tr>\n",
       "  </thead>\n",
       "  <tbody>\n",
       "    <tr>\n",
       "      <th>1</th>\n",
       "      <td>Ethan</td>\n",
       "      <td>Davis</td>\n",
       "      <td>3.9</td>\n",
       "      <td>93</td>\n",
       "      <td>1</td>\n",
       "      <td>yes</td>\n",
       "    </tr>\n",
       "    <tr>\n",
       "      <th>2</th>\n",
       "      <td>Ava</td>\n",
       "      <td>Blake</td>\n",
       "      <td>4.8</td>\n",
       "      <td>96</td>\n",
       "      <td>1</td>\n",
       "      <td>yes</td>\n",
       "    </tr>\n",
       "    <tr>\n",
       "      <th>3</th>\n",
       "      <td>William</td>\n",
       "      <td>Martinez</td>\n",
       "      <td>3.8</td>\n",
       "      <td>89</td>\n",
       "      <td>1</td>\n",
       "      <td>yes</td>\n",
       "    </tr>\n",
       "    <tr>\n",
       "      <th>4</th>\n",
       "      <td>Isabella</td>\n",
       "      <td>Garcia</td>\n",
       "      <td>4.0</td>\n",
       "      <td>96</td>\n",
       "      <td>1</td>\n",
       "      <td>yes</td>\n",
       "    </tr>\n",
       "    <tr>\n",
       "      <th>7</th>\n",
       "      <td>Benjamin</td>\n",
       "      <td>Taylor</td>\n",
       "      <td>3.7</td>\n",
       "      <td>90</td>\n",
       "      <td>1</td>\n",
       "      <td>yes</td>\n",
       "    </tr>\n",
       "    <tr>\n",
       "      <th>10</th>\n",
       "      <td>Amelia</td>\n",
       "      <td>Lee</td>\n",
       "      <td>3.9</td>\n",
       "      <td>95</td>\n",
       "      <td>1</td>\n",
       "      <td>yes</td>\n",
       "    </tr>\n",
       "  </tbody>\n",
       "</table>\n",
       "</div>"
      ],
      "text/plain": [
       "        Name   Surname  GPA  Exam_grade  Attempts_to_pass  \\\n",
       "1      Ethan     Davis  3.9          93                 1   \n",
       "2        Ava     Blake  4.8          96                 1   \n",
       "3    William  Martinez  3.8          89                 1   \n",
       "4   Isabella    Garcia  4.0          96                 1   \n",
       "7   Benjamin    Taylor  3.7          90                 1   \n",
       "10    Amelia       Lee  3.9          95                 1   \n",
       "\n",
       "   Admission_to_next_course  \n",
       "1                       yes  \n",
       "2                       yes  \n",
       "3                       yes  \n",
       "4                       yes  \n",
       "7                       yes  \n",
       "10                      yes  "
      ]
     },
     "execution_count": 44,
     "metadata": {},
     "output_type": "execute_result"
    }
   ],
   "source": [
    "my_df[my_df['Attempts_to_pass'] == 1]"
   ]
  },
  {
   "cell_type": "code",
   "execution_count": 45,
   "id": "e2eeb280",
   "metadata": {},
   "outputs": [
    {
     "data": {
      "text/plain": [
       "6"
      ]
     },
     "execution_count": 45,
     "metadata": {},
     "output_type": "execute_result"
    }
   ],
   "source": [
    "passed_first_time = len(my_df[my_df['Attempts_to_pass'] == 1])\n",
    "passed_first_time"
   ]
  },
  {
   "cell_type": "code",
   "execution_count": 46,
   "id": "6ceab510",
   "metadata": {},
   "outputs": [
    {
     "data": {
      "text/plain": [
       "0      Johnson\n",
       "1        Davis\n",
       "2        Blake\n",
       "3     Martinez\n",
       "4       Garcia\n",
       "5       Wilson\n",
       "6     Anderson\n",
       "7       Taylor\n",
       "8      Jackson\n",
       "9        Clark\n",
       "10         Lee\n",
       "11       Baker\n",
       "12       Perez\n",
       "13        Hall\n",
       "14       Young\n",
       "Name: Surname, dtype: object"
      ]
     },
     "execution_count": 46,
     "metadata": {},
     "output_type": "execute_result"
    }
   ],
   "source": [
    "surname_series = my_df['Surname']\n",
    "surname_series"
   ]
  },
  {
   "cell_type": "code",
   "execution_count": 47,
   "id": "0c4a7adc",
   "metadata": {},
   "outputs": [],
   "source": [
    "surname_series.to_csv('surname.csv', index=False)"
   ]
  }
 ],
 "metadata": {
  "kernelspec": {
   "display_name": "Python 3 (ipykernel)",
   "language": "python",
   "name": "python3"
  },
  "language_info": {
   "codemirror_mode": {
    "name": "ipython",
    "version": 3
   },
   "file_extension": ".py",
   "mimetype": "text/x-python",
   "name": "python",
   "nbconvert_exporter": "python",
   "pygments_lexer": "ipython3",
   "version": "3.9.13"
  }
 },
 "nbformat": 4,
 "nbformat_minor": 5
}
